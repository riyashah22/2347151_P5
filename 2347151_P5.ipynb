from dateutil import parser


class End(Exception):
    "Bye! Hope you run this program again."
    pass


while (1):
    dob = input("Enter DOB (dd/mm/yyyy): ")
    year = dob.split('/')
    if dob == "":
        print("Please enter DOB")
    elif dob == "?":
        print("Enter DOB in format: (dd/mm/yyyy)")
    elif len(year) == 3 and int(year[1]) > 12:
        print("Invalid Format. Please enter date in (dd/mm/yyyy) format")
    else:
        try:
            if dob == 'q' or dob == 'Q':
                raise End
            parser.parse(dob)
            year = int(year[2])
            age = 2023 - year
            print(f"Your age is: {age}")
        except (End):
            print("Bye! Hope you run this program again.")
            break
        except (ValueError):
            print("Invalid format")
