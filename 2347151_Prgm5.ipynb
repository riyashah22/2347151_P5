{
 "cells": [
  {
   "cell_type": "code",
   "execution_count": 1,
   "metadata": {},
   "outputs": [
    {
     "name": "stdout",
     "output_type": "stream",
     "text": [
      "Your age is: 20\n",
      "Invalid Format. Please enter date in (dd/mm/yyyy) format\n",
      "Enter DOB in format: (dd/mm/yyyy)\n",
      "Please enter DOB\n",
      "Bye! Hope you run this program again.\n"
     ]
    }
   ],
   "source": [
    "from dateutil import parser\n",
    "\n",
    "\n",
    "class End(Exception):\n",
    "    \"Bye! Hope you run this program again.\"\n",
    "    pass\n",
    "\n",
    "\n",
    "while (1):\n",
    "    dob = input(\"Enter DOB (dd/mm/yyyy): \")\n",
    "    year = dob.split('/')\n",
    "    if dob == \"\":\n",
    "        print(\"Please enter DOB\")\n",
    "    elif dob == \"?\":\n",
    "        print(\"Enter DOB in format: (dd/mm/yyyy)\")\n",
    "    elif len(year) == 3 and int(year[1]) > 12:\n",
    "        print(\"Invalid Format. Please enter date in (dd/mm/yyyy) format\")\n",
    "    else:\n",
    "        try:\n",
    "            if dob == 'q' or dob == 'Q':\n",
    "                raise End\n",
    "            parser.parse(dob)\n",
    "            year = int(year[2])\n",
    "            age = 2023 - year\n",
    "            print(f\"Your age is: {age}\")\n",
    "        except (End):\n",
    "            print(\"Bye! Hope you run this program again.\")\n",
    "            break\n",
    "        except (ValueError):\n",
    "            print(\"Invalid format\")\n"
   ]
  }
 ],
 "metadata": {
  "kernelspec": {
   "display_name": "Python 3.10.6 64-bit ('3.10.6')",
   "language": "python",
   "name": "python3"
  },
  "language_info": {
   "codemirror_mode": {
    "name": "ipython",
    "version": 3
   },
   "file_extension": ".py",
   "mimetype": "text/x-python",
   "name": "python",
   "nbconvert_exporter": "python",
   "pygments_lexer": "ipython3",
   "version": "3.10.6"
  },
  "orig_nbformat": 4,
  "vscode": {
   "interpreter": {
    "hash": "40b53c259caf6722c9d76780e9c774d5548981d0ad94eeabcb5dbe3426c9381c"
   }
  }
 },
 "nbformat": 4,
 "nbformat_minor": 2
}
