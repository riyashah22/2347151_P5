{
 "cells": [
  {
   "cell_type": "code",
   "execution_count": 1,
   "metadata": {},
   "outputs": [
    {
     "name": "stdout",
     "output_type": "stream",
     "text": [
      "Bye! Hope you run this program again\n"
     ]
    },
    {
     "ename": "",
     "evalue": "",
     "output_type": "error",
     "traceback": [
      "\u001b[1;31mThe Kernel crashed while executing code in the the current cell or a previous cell. Please review the code in the cell(s) to identify a possible cause of the failure. Click <a href='https://aka.ms/vscodeJupyterKernelCrash'>here</a> for more info. View Jupyter <a href='command:jupyter.viewOutput'>log</a> for further details."
     ]
    }
   ],
   "source": [
    "# date = input(\"Enter Your Birthdate in dd/mm/yyyy: \")\n",
    "# if date == \"\":\n",
    "#     print(\"Please Enter your Date\")\n",
    "#     date = input(\"\")\n",
    "    \n",
    "try:\n",
    "    date = input(\"Enter Your Birthdate in dd/mm/yyyy: \") # raw_input in Python 2.x\n",
    "    if not date:\n",
    "        raise ValueError('String is empty')\n",
    "    elif date == '?':\n",
    "        date = input(\"Enter your birthdate in dd/mm/yyyy: \")\n",
    "    elif date == 'q' or 'Q':\n",
    "        exit()\n",
    "    else:\n",
    "        age = date[-5:]\n",
    "        print(age)\n",
    "except ValueError as e:\n",
    "    print(e)\n",
    "    date = input(\"Please Enter your Date\")\n",
    "    \n",
    "finally:\n",
    "    print(\"Bye! Hope you run this program again\")"
   ]
  },
  {
   "cell_type": "markdown",
   "metadata": {},
   "source": []
  }
 ],
 "metadata": {
  "kernelspec": {
   "display_name": "Python 3.11.4 64-bit",
   "language": "python",
   "name": "python3"
  },
  "language_info": {
   "codemirror_mode": {
    "name": "ipython",
    "version": 3
   },
   "file_extension": ".py",
   "mimetype": "text/x-python",
   "name": "python",
   "nbconvert_exporter": "python",
   "pygments_lexer": "ipython3",
   "version": "3.11.4"
  },
  "orig_nbformat": 4,
  "vscode": {
   "interpreter": {
    "hash": "aee8b7b246df8f9039afb4144a1f6fd8d2ca17a180786b69acc140d282b71a49"
   }
  }
 },
 "nbformat": 4,
 "nbformat_minor": 2
}
